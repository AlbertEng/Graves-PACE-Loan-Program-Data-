{
 "cells": [
  {
   "cell_type": "code",
   "execution_count": 1,
   "metadata": {},
   "outputs": [],
   "source": [
    "import os\n",
    "import pandas as pd\n",
    "import numpy as np\n",
    "import random"
   ]
  },
  {
   "cell_type": "code",
   "execution_count": 2,
   "metadata": {},
   "outputs": [],
   "source": [
    "county_data_name = 'Assessor_Parcels_Data_-_2019' # we're going to start with one file"
   ]
  },
  {
   "cell_type": "code",
   "execution_count": 3,
   "metadata": {},
   "outputs": [
    {
     "data": {
      "text/plain": [
       "['Alliance March 2018.xlsx',\n",
       " 'Alliance NRG Part B Oct 2018.xlsx',\n",
       " 'AllianceNRG -  Part B - March 2019.xlsx',\n",
       " 'AllianceNRG March 2016.xlsx',\n",
       " 'AllianceNRG Oct 2016.xlsx']"
      ]
     },
     "execution_count": 3,
     "metadata": {},
     "output_type": "execute_result"
    }
   ],
   "source": [
    "path = os.getcwd()\n",
    "files = os.listdir(path)\n",
    "files = [f for f in files if f[-4:] == 'xlsx']\n",
    "files[:5]"
   ]
  },
  {
   "cell_type": "code",
   "execution_count": 4,
   "metadata": {},
   "outputs": [
    {
     "data": {
      "text/html": [
       "<div>\n",
       "<style scoped>\n",
       "    .dataframe tbody tr th:only-of-type {\n",
       "        vertical-align: middle;\n",
       "    }\n",
       "\n",
       "    .dataframe tbody tr th {\n",
       "        vertical-align: top;\n",
       "    }\n",
       "\n",
       "    .dataframe thead th {\n",
       "        text-align: right;\n",
       "    }\n",
       "</style>\n",
       "<table border=\"1\" class=\"dataframe\">\n",
       "  <thead>\n",
       "    <tr style=\"text-align: right;\">\n",
       "      <th></th>\n",
       "      <th>ï»¿ZIPcode</th>\n",
       "      <th>TaxRateArea_CITY</th>\n",
       "      <th>AIN</th>\n",
       "      <th>RollYear</th>\n",
       "      <th>TaxRateArea</th>\n",
       "      <th>AssessorID</th>\n",
       "      <th>PropertyLocation</th>\n",
       "      <th>PropertyType</th>\n",
       "      <th>PropertyUseCode</th>\n",
       "      <th>GeneralUseType</th>\n",
       "      <th>...</th>\n",
       "      <th>HouseFraction</th>\n",
       "      <th>StreetDirection</th>\n",
       "      <th>StreetName</th>\n",
       "      <th>UnitNo</th>\n",
       "      <th>City</th>\n",
       "      <th>ZIPcode5</th>\n",
       "      <th>rowID</th>\n",
       "      <th>CENTER_LAT</th>\n",
       "      <th>CENTER_LON</th>\n",
       "      <th>Location 1</th>\n",
       "    </tr>\n",
       "  </thead>\n",
       "  <tbody>\n",
       "    <tr>\n",
       "      <th>0</th>\n",
       "      <td>91789-4036</td>\n",
       "      <td>DIAMOND BAR</td>\n",
       "      <td>8765017031</td>\n",
       "      <td>2019</td>\n",
       "      <td>10173</td>\n",
       "      <td>8765-017-031</td>\n",
       "      <td>20924 QUAIL RUN DR  DIAMOND BAR CA  91789</td>\n",
       "      <td>SFR</td>\n",
       "      <td>0100</td>\n",
       "      <td>Residential</td>\n",
       "      <td>...</td>\n",
       "      <td>NaN</td>\n",
       "      <td>NaN</td>\n",
       "      <td>QUAIL RUN DR</td>\n",
       "      <td>NaN</td>\n",
       "      <td>DIAMOND BAR CA</td>\n",
       "      <td>91789.0</td>\n",
       "      <td>20198765017031</td>\n",
       "      <td>33.982467</td>\n",
       "      <td>-117.848366</td>\n",
       "      <td>(33.98246687, -117.84836647)</td>\n",
       "    </tr>\n",
       "    <tr>\n",
       "      <th>1</th>\n",
       "      <td>91789-4060</td>\n",
       "      <td>DIAMOND BAR</td>\n",
       "      <td>8765020011</td>\n",
       "      <td>2019</td>\n",
       "      <td>11950</td>\n",
       "      <td>8765-020-011</td>\n",
       "      <td>20923 E CANYON RIDGE LN  DIAMOND BAR CA  91789</td>\n",
       "      <td>SFR</td>\n",
       "      <td>0100</td>\n",
       "      <td>Residential</td>\n",
       "      <td>...</td>\n",
       "      <td>NaN</td>\n",
       "      <td>E</td>\n",
       "      <td>CANYON RIDGE LN</td>\n",
       "      <td>NaN</td>\n",
       "      <td>DIAMOND BAR CA</td>\n",
       "      <td>91789.0</td>\n",
       "      <td>20198765020011</td>\n",
       "      <td>33.976384</td>\n",
       "      <td>-117.849724</td>\n",
       "      <td>(33.97638402, -117.84972393)</td>\n",
       "    </tr>\n",
       "    <tr>\n",
       "      <th>2</th>\n",
       "      <td>91789-4085</td>\n",
       "      <td>DIAMOND BAR</td>\n",
       "      <td>8765021098</td>\n",
       "      <td>2019</td>\n",
       "      <td>10328</td>\n",
       "      <td>8765-021-098</td>\n",
       "      <td>20783 E CREST LN, #D  WALNUT CA  91789</td>\n",
       "      <td>CND</td>\n",
       "      <td>010C</td>\n",
       "      <td>Residential</td>\n",
       "      <td>...</td>\n",
       "      <td>NaN</td>\n",
       "      <td>E</td>\n",
       "      <td>CREST LN</td>\n",
       "      <td>#D</td>\n",
       "      <td>WALNUT CA</td>\n",
       "      <td>91789.0</td>\n",
       "      <td>20198765021098</td>\n",
       "      <td>33.979641</td>\n",
       "      <td>-117.853396</td>\n",
       "      <td>(33.97964088, -117.85339604)</td>\n",
       "    </tr>\n",
       "    <tr>\n",
       "      <th>3</th>\n",
       "      <td>91789-4000</td>\n",
       "      <td>DIAMOND BAR</td>\n",
       "      <td>8765022038</td>\n",
       "      <td>2019</td>\n",
       "      <td>10190</td>\n",
       "      <td>8765-022-038</td>\n",
       "      <td>20740 E RIM LN  DIAMOND BAR CA  91789</td>\n",
       "      <td>SFR</td>\n",
       "      <td>0100</td>\n",
       "      <td>Residential</td>\n",
       "      <td>...</td>\n",
       "      <td>NaN</td>\n",
       "      <td>E</td>\n",
       "      <td>RIM LN</td>\n",
       "      <td>NaN</td>\n",
       "      <td>DIAMOND BAR CA</td>\n",
       "      <td>91789.0</td>\n",
       "      <td>20198765022038</td>\n",
       "      <td>33.981122</td>\n",
       "      <td>-117.853957</td>\n",
       "      <td>(33.98112249, -117.85395656)</td>\n",
       "    </tr>\n",
       "    <tr>\n",
       "      <th>4</th>\n",
       "      <td>91765</td>\n",
       "      <td>DIAMOND BAR</td>\n",
       "      <td>8765023039</td>\n",
       "      <td>2019</td>\n",
       "      <td>10067</td>\n",
       "      <td>8765-023-039</td>\n",
       "      <td>20620 PEACEFUL WOODS DR  DIAMOND BAR CA  91765</td>\n",
       "      <td>CND</td>\n",
       "      <td>01DC</td>\n",
       "      <td>Residential</td>\n",
       "      <td>...</td>\n",
       "      <td>NaN</td>\n",
       "      <td>NaN</td>\n",
       "      <td>PEACEFUL WOODS DR</td>\n",
       "      <td>NaN</td>\n",
       "      <td>DIAMOND BAR CA</td>\n",
       "      <td>91765.0</td>\n",
       "      <td>20198765023039</td>\n",
       "      <td>33.988432</td>\n",
       "      <td>-117.853275</td>\n",
       "      <td>(33.988432, -117.85327457)</td>\n",
       "    </tr>\n",
       "  </tbody>\n",
       "</table>\n",
       "<p>5 rows × 51 columns</p>\n",
       "</div>"
      ],
      "text/plain": [
       "   ï»¿ZIPcode TaxRateArea_CITY         AIN  RollYear  TaxRateArea  \\\n",
       "0  91789-4036      DIAMOND BAR  8765017031      2019        10173   \n",
       "1  91789-4060      DIAMOND BAR  8765020011      2019        11950   \n",
       "2  91789-4085      DIAMOND BAR  8765021098      2019        10328   \n",
       "3  91789-4000      DIAMOND BAR  8765022038      2019        10190   \n",
       "4       91765      DIAMOND BAR  8765023039      2019        10067   \n",
       "\n",
       "     AssessorID                                PropertyLocation PropertyType  \\\n",
       "0  8765-017-031       20924 QUAIL RUN DR  DIAMOND BAR CA  91789          SFR   \n",
       "1  8765-020-011  20923 E CANYON RIDGE LN  DIAMOND BAR CA  91789          SFR   \n",
       "2  8765-021-098          20783 E CREST LN, #D  WALNUT CA  91789          CND   \n",
       "3  8765-022-038           20740 E RIM LN  DIAMOND BAR CA  91789          SFR   \n",
       "4  8765-023-039  20620 PEACEFUL WOODS DR  DIAMOND BAR CA  91765          CND   \n",
       "\n",
       "  PropertyUseCode GeneralUseType              ...              HouseFraction  \\\n",
       "0            0100    Residential              ...                        NaN   \n",
       "1            0100    Residential              ...                        NaN   \n",
       "2            010C    Residential              ...                        NaN   \n",
       "3            0100    Residential              ...                        NaN   \n",
       "4            01DC    Residential              ...                        NaN   \n",
       "\n",
       "  StreetDirection         StreetName  UnitNo            City  ZIPcode5  \\\n",
       "0             NaN       QUAIL RUN DR     NaN  DIAMOND BAR CA   91789.0   \n",
       "1               E    CANYON RIDGE LN     NaN  DIAMOND BAR CA   91789.0   \n",
       "2               E           CREST LN      #D       WALNUT CA   91789.0   \n",
       "3               E             RIM LN     NaN  DIAMOND BAR CA   91789.0   \n",
       "4             NaN  PEACEFUL WOODS DR     NaN  DIAMOND BAR CA   91765.0   \n",
       "\n",
       "            rowID  CENTER_LAT  CENTER_LON                    Location 1  \n",
       "0  20198765017031   33.982467 -117.848366  (33.98246687, -117.84836647)  \n",
       "1  20198765020011   33.976384 -117.849724  (33.97638402, -117.84972393)  \n",
       "2  20198765021098   33.979641 -117.853396  (33.97964088, -117.85339604)  \n",
       "3  20198765022038   33.981122 -117.853957  (33.98112249, -117.85395656)  \n",
       "4  20198765023039   33.988432 -117.853275    (33.988432, -117.85327457)  \n",
       "\n",
       "[5 rows x 51 columns]"
      ]
     },
     "execution_count": 4,
     "metadata": {},
     "output_type": "execute_result"
    }
   ],
   "source": [
    "pdata = pd.read_csv(r\"C:\\Users\\kas\\Downloads\\Complete\\Assessor_Parcels_Data_-_2019.csv\", engine = 'python')\n",
    "pdata.head()"
   ]
  },
  {
   "cell_type": "code",
   "execution_count": 5,
   "metadata": {},
   "outputs": [
    {
     "name": "stdout",
     "output_type": "stream",
     "text": [
      "bad files:  8 total ID's:  163188\n"
     ]
    }
   ],
   "source": [
    "ids = []\n",
    "bad_files = []\n",
    "col_name = 'Assessor\\'s Parcel Number (APN)  '\n",
    "for f in files:\n",
    "    tmp = pd.read_excel(f, header = 5)\n",
    "    if not (col_name in tmp.columns) or not (tmp.columns[0] == col_name):\n",
    "        bad_files.append(f)\n",
    "    else:\n",
    "        tmp = tmp[col_name]\n",
    "        ids.extend(tmp)\n",
    "print('bad files ',len(bad_files), ', total ID\\'s ', len(ids))"
   ]
  },
  {
   "cell_type": "code",
   "execution_count": 8,
   "metadata": {},
   "outputs": [
    {
     "data": {
      "text/plain": [
       "['CAFIRST - CSCDA - Part B - March 2019.xlsx',\n",
       " 'CAFIRST LA County - Part B - March 2019.xlsx',\n",
       " 'CSCDA Hero  March 2018.xlsx',\n",
       " 'CSCDA HERO - Part B - March 2019.xlsx',\n",
       " 'CSCDA HERO Part B Oct 2018.xlsx',\n",
       " 'LA County HERO Part B Oct 2018.xlsx',\n",
       " 'LA HERO - Part B - March 2019.xlsx',\n",
       " 'LA HERO March 2018.xlsx']"
      ]
     },
     "execution_count": 8,
     "metadata": {},
     "output_type": "execute_result"
    }
   ],
   "source": [
    "bad_files"
   ]
  },
  {
   "cell_type": "code",
   "execution_count": 9,
   "metadata": {},
   "outputs": [
    {
     "name": "stdout",
     "output_type": "stream",
     "text": [
      "CSCDA HERO - Part B - March 2019.xlsx\n"
     ]
    }
   ],
   "source": [
    "x = random.choice(bad_files)\n",
    "print(x)"
   ]
  },
  {
   "cell_type": "code",
   "execution_count": 10,
   "metadata": {},
   "outputs": [
    {
     "name": "stdout",
     "output_type": "stream",
     "text": [
      "bad files:  6 total ID's:  164405\n"
     ]
    }
   ],
   "source": [
    "bad_files2 = []\n",
    "col_name = 'Assessor\\'s Parcel Number (APN)'  # there was a space at the end that these guys took out\n",
    "for f in bad_files:\n",
    "    tmp = pd.read_excel(f, header = 5)\n",
    "    if not (col_name in tmp.columns) or not (tmp.columns[0] == col_name):\n",
    "        bad_files2.append(f)\n",
    "    else:\n",
    "        tmp = tmp[col_name]\n",
    "        ids.extend(tmp)\n",
    "print('bad files ',len(bad_files2), ', total ID\\'s ', len(ids))"
   ]
  },
  {
   "cell_type": "code",
   "execution_count": 11,
   "metadata": {},
   "outputs": [
    {
     "name": "stdout",
     "output_type": "stream",
     "text": [
      "LA County HERO Part B Oct 2018.xlsx\n"
     ]
    }
   ],
   "source": [
    "x = random.choice(bad_files2)\n",
    "print(x)"
   ]
  },
  {
   "cell_type": "code",
   "execution_count": 12,
   "metadata": {},
   "outputs": [
    {
     "data": {
      "text/html": [
       "<div>\n",
       "<style scoped>\n",
       "    .dataframe tbody tr th:only-of-type {\n",
       "        vertical-align: middle;\n",
       "    }\n",
       "\n",
       "    .dataframe tbody tr th {\n",
       "        vertical-align: top;\n",
       "    }\n",
       "\n",
       "    .dataframe thead th {\n",
       "        text-align: right;\n",
       "    }\n",
       "</style>\n",
       "<table border=\"1\" class=\"dataframe\">\n",
       "  <thead>\n",
       "    <tr style=\"text-align: right;\">\n",
       "      <th></th>\n",
       "      <th>Reporting Period (mm/dd/yy--mm/dd/yy):</th>\n",
       "      <th>1/1/2018 -- 6/30/2018</th>\n",
       "      <th>Administrative Fee Due:</th>\n",
       "      <th>Unnamed: 3</th>\n",
       "      <th>None</th>\n",
       "    </tr>\n",
       "  </thead>\n",
       "  <tbody>\n",
       "    <tr>\n",
       "      <th>0</th>\n",
       "      <td>Enter Financing information beginning in row 8...</td>\n",
       "      <td>None</td>\n",
       "      <td>None</td>\n",
       "      <td>None</td>\n",
       "      <td>None</td>\n",
       "    </tr>\n",
       "    <tr>\n",
       "      <th>1</th>\n",
       "      <td>\"Principal Amount\" should include closing fees...</td>\n",
       "      <td>None</td>\n",
       "      <td>None</td>\n",
       "      <td>None</td>\n",
       "      <td>None</td>\n",
       "    </tr>\n",
       "    <tr>\n",
       "      <th>2</th>\n",
       "      <td>Assessor's Parcel Number (APN)</td>\n",
       "      <td>Principal Amount</td>\n",
       "      <td>Annual Assessment Amount</td>\n",
       "      <td>Maturity Date</td>\n",
       "      <td>Origination Date</td>\n",
       "    </tr>\n",
       "    <tr>\n",
       "      <th>3</th>\n",
       "      <td>5455005032</td>\n",
       "      <td>16622.4</td>\n",
       "      <td>1959.82</td>\n",
       "      <td>2032-11-01 00:00:00</td>\n",
       "      <td>2018-02-07 00:00:00</td>\n",
       "    </tr>\n",
       "    <tr>\n",
       "      <th>4</th>\n",
       "      <td>5521021008</td>\n",
       "      <td>10185</td>\n",
       "      <td>2319.42</td>\n",
       "      <td>2022-11-01 00:00:00</td>\n",
       "      <td>2018-01-24 00:00:00</td>\n",
       "    </tr>\n",
       "  </tbody>\n",
       "</table>\n",
       "</div>"
      ],
      "text/plain": [
       "              Reporting Period (mm/dd/yy--mm/dd/yy): 1/1/2018 -- 6/30/2018  \\\n",
       "0  Enter Financing information beginning in row 8...                  None   \n",
       "1  \"Principal Amount\" should include closing fees...                  None   \n",
       "2                     Assessor's Parcel Number (APN)      Principal Amount   \n",
       "3                                         5455005032               16622.4   \n",
       "4                                         5521021008                 10185   \n",
       "\n",
       "    Administrative Fee Due:           Unnamed: 3                  NaN  \n",
       "0                      None                 None                 None  \n",
       "1                      None                 None                 None  \n",
       "2  Annual Assessment Amount        Maturity Date     Origination Date  \n",
       "3                   1959.82  2032-11-01 00:00:00  2018-02-07 00:00:00  \n",
       "4                   2319.42  2022-11-01 00:00:00  2018-01-24 00:00:00  "
      ]
     },
     "execution_count": 12,
     "metadata": {},
     "output_type": "execute_result"
    }
   ],
   "source": [
    "y = pd.read_excel(x, header = 5)\n",
    "y.head()"
   ]
  },
  {
   "cell_type": "code",
   "execution_count": 13,
   "metadata": {},
   "outputs": [
    {
     "data": {
      "text/html": [
       "<div>\n",
       "<style scoped>\n",
       "    .dataframe tbody tr th:only-of-type {\n",
       "        vertical-align: middle;\n",
       "    }\n",
       "\n",
       "    .dataframe tbody tr th {\n",
       "        vertical-align: top;\n",
       "    }\n",
       "\n",
       "    .dataframe thead th {\n",
       "        text-align: right;\n",
       "    }\n",
       "</style>\n",
       "<table border=\"1\" class=\"dataframe\">\n",
       "  <thead>\n",
       "    <tr style=\"text-align: right;\">\n",
       "      <th></th>\n",
       "      <th>Assessor's Parcel Number (APN)</th>\n",
       "      <th>Principal Amount</th>\n",
       "      <th>Annual Assessment Amount</th>\n",
       "      <th>Maturity Date</th>\n",
       "      <th>Origination Date</th>\n",
       "    </tr>\n",
       "  </thead>\n",
       "  <tbody>\n",
       "    <tr>\n",
       "      <th>0</th>\n",
       "      <td>5455005032</td>\n",
       "      <td>16622.44</td>\n",
       "      <td>1959.82</td>\n",
       "      <td>2032-11-01</td>\n",
       "      <td>2018-02-07</td>\n",
       "    </tr>\n",
       "    <tr>\n",
       "      <th>1</th>\n",
       "      <td>5521021008</td>\n",
       "      <td>10185.04</td>\n",
       "      <td>2319.42</td>\n",
       "      <td>2022-11-01</td>\n",
       "      <td>2018-01-24</td>\n",
       "    </tr>\n",
       "    <tr>\n",
       "      <th>2</th>\n",
       "      <td>5649021007</td>\n",
       "      <td>92693.30</td>\n",
       "      <td>7804.17</td>\n",
       "      <td>2042-11-01</td>\n",
       "      <td>2018-03-07</td>\n",
       "    </tr>\n",
       "    <tr>\n",
       "      <th>3</th>\n",
       "      <td>5666012002</td>\n",
       "      <td>15691.21</td>\n",
       "      <td>1443.66</td>\n",
       "      <td>2042-11-01</td>\n",
       "      <td>2018-05-16</td>\n",
       "    </tr>\n",
       "    <tr>\n",
       "      <th>4</th>\n",
       "      <td>5689018013</td>\n",
       "      <td>59874.41</td>\n",
       "      <td>14505.20</td>\n",
       "      <td>2022-11-01</td>\n",
       "      <td>2018-01-24</td>\n",
       "    </tr>\n",
       "  </tbody>\n",
       "</table>\n",
       "</div>"
      ],
      "text/plain": [
       "   Assessor's Parcel Number (APN)  Principal Amount  Annual Assessment Amount  \\\n",
       "0                      5455005032          16622.44                   1959.82   \n",
       "1                      5521021008          10185.04                   2319.42   \n",
       "2                      5649021007          92693.30                   7804.17   \n",
       "3                      5666012002          15691.21                   1443.66   \n",
       "4                      5689018013          59874.41                  14505.20   \n",
       "\n",
       "  Maturity Date Origination Date  \n",
       "0    2032-11-01       2018-02-07  \n",
       "1    2022-11-01       2018-01-24  \n",
       "2    2042-11-01       2018-03-07  \n",
       "3    2042-11-01       2018-05-16  \n",
       "4    2022-11-01       2018-01-24  "
      ]
     },
     "execution_count": 13,
     "metadata": {},
     "output_type": "execute_result"
    }
   ],
   "source": [
    "y = pd.read_excel(x, header = 8)   #these guys seem to have put the column names in the 8th row\n",
    "y.head()"
   ]
  },
  {
   "cell_type": "code",
   "execution_count": 14,
   "metadata": {},
   "outputs": [
    {
     "data": {
      "text/plain": [
       "164405"
      ]
     },
     "execution_count": 14,
     "metadata": {},
     "output_type": "execute_result"
    }
   ],
   "source": [
    "len(ids)"
   ]
  },
  {
   "cell_type": "code",
   "execution_count": 15,
   "metadata": {},
   "outputs": [
    {
     "name": "stdout",
     "output_type": "stream",
     "text": [
      "bad files:  0 total ID's:  172568\n"
     ]
    }
   ],
   "source": [
    "bad_files3 = []\n",
    "col_name = 'Assessor\\'s Parcel Number (APN)'\n",
    "for f in bad_files2:\n",
    "    tmp = pd.read_excel(f, header = 8)\n",
    "    if not (col_name in tmp.columns) or not (tmp.columns[0] == col_name):\n",
    "        bad_files3.append(f)\n",
    "    else:\n",
    "        tmp = tmp[col_name]\n",
    "        ids.extend(tmp)\n",
    "print('bad files ',len(bad_files3), ', total ID\\'s ', len(ids))"
   ]
  },
  {
   "cell_type": "code",
   "execution_count": 16,
   "metadata": {},
   "outputs": [
    {
     "data": {
      "text/plain": [
       "['010-0134-017-0000',\n",
       " '157-295-05-00',\n",
       " '493-203-07-00',\n",
       " '0059-092-280',\n",
       " '017-490-063-9']"
      ]
     },
     "execution_count": 16,
     "metadata": {},
     "output_type": "execute_result"
    }
   ],
   "source": [
    "ids[:5]"
   ]
  },
  {
   "cell_type": "code",
   "execution_count": 17,
   "metadata": {
    "scrolled": true
   },
   "outputs": [
    {
     "data": {
      "text/plain": [
       "(12101, 51)"
      ]
     },
     "execution_count": 17,
     "metadata": {},
     "output_type": "execute_result"
    }
   ],
   "source": [
    "filtered = pdata[pdata.AssessorID.isin(ids)]\n",
    "filtered.shape"
   ]
  },
  {
   "cell_type": "code",
   "execution_count": 18,
   "metadata": {},
   "outputs": [
    {
     "data": {
      "text/html": [
       "<div>\n",
       "<style scoped>\n",
       "    .dataframe tbody tr th:only-of-type {\n",
       "        vertical-align: middle;\n",
       "    }\n",
       "\n",
       "    .dataframe tbody tr th {\n",
       "        vertical-align: top;\n",
       "    }\n",
       "\n",
       "    .dataframe thead th {\n",
       "        text-align: right;\n",
       "    }\n",
       "</style>\n",
       "<table border=\"1\" class=\"dataframe\">\n",
       "  <thead>\n",
       "    <tr style=\"text-align: right;\">\n",
       "      <th></th>\n",
       "      <th>ï»¿ZIPcode</th>\n",
       "      <th>TaxRateArea_CITY</th>\n",
       "      <th>AIN</th>\n",
       "      <th>RollYear</th>\n",
       "      <th>TaxRateArea</th>\n",
       "      <th>AssessorID</th>\n",
       "      <th>PropertyLocation</th>\n",
       "      <th>PropertyType</th>\n",
       "      <th>PropertyUseCode</th>\n",
       "      <th>GeneralUseType</th>\n",
       "      <th>...</th>\n",
       "      <th>HouseFraction</th>\n",
       "      <th>StreetDirection</th>\n",
       "      <th>StreetName</th>\n",
       "      <th>UnitNo</th>\n",
       "      <th>City</th>\n",
       "      <th>ZIPcode5</th>\n",
       "      <th>rowID</th>\n",
       "      <th>CENTER_LAT</th>\n",
       "      <th>CENTER_LON</th>\n",
       "      <th>Location 1</th>\n",
       "    </tr>\n",
       "  </thead>\n",
       "  <tbody>\n",
       "    <tr>\n",
       "      <th>1056</th>\n",
       "      <td>91789-3530</td>\n",
       "      <td>unincorporated</td>\n",
       "      <td>8764016015</td>\n",
       "      <td>2019</td>\n",
       "      <td>8322</td>\n",
       "      <td>8764-016-015</td>\n",
       "      <td>1928 RADCLAY DR  WALNUT CA  91789</td>\n",
       "      <td>SFR</td>\n",
       "      <td>0100</td>\n",
       "      <td>Residential</td>\n",
       "      <td>...</td>\n",
       "      <td>NaN</td>\n",
       "      <td>NaN</td>\n",
       "      <td>RADCLAY DR</td>\n",
       "      <td>NaN</td>\n",
       "      <td>WALNUT CA</td>\n",
       "      <td>91789.0</td>\n",
       "      <td>20198764016015</td>\n",
       "      <td>33.984956</td>\n",
       "      <td>-117.859498</td>\n",
       "      <td>(33.98495641, -117.85949761)</td>\n",
       "    </tr>\n",
       "    <tr>\n",
       "      <th>1254</th>\n",
       "      <td>91765-3461</td>\n",
       "      <td>DIAMOND BAR</td>\n",
       "      <td>8765010024</td>\n",
       "      <td>2019</td>\n",
       "      <td>10068</td>\n",
       "      <td>8765-010-024</td>\n",
       "      <td>21139 TRIGGER LN  DIAMOND BAR CA  91765</td>\n",
       "      <td>SFR</td>\n",
       "      <td>0101</td>\n",
       "      <td>Residential</td>\n",
       "      <td>...</td>\n",
       "      <td>NaN</td>\n",
       "      <td>NaN</td>\n",
       "      <td>TRIGGER LN</td>\n",
       "      <td>NaN</td>\n",
       "      <td>DIAMOND BAR CA</td>\n",
       "      <td>91765.0</td>\n",
       "      <td>20198765010024</td>\n",
       "      <td>33.976302</td>\n",
       "      <td>-117.844966</td>\n",
       "      <td>(33.97630227, -117.84496593)</td>\n",
       "    </tr>\n",
       "    <tr>\n",
       "      <th>2222</th>\n",
       "      <td>91789-3414</td>\n",
       "      <td>unincorporated</td>\n",
       "      <td>8764001075</td>\n",
       "      <td>2019</td>\n",
       "      <td>8322</td>\n",
       "      <td>8764-001-075</td>\n",
       "      <td>2055 DACIAN ST  WALNUT CA  91789</td>\n",
       "      <td>CND</td>\n",
       "      <td>010C</td>\n",
       "      <td>Residential</td>\n",
       "      <td>...</td>\n",
       "      <td>NaN</td>\n",
       "      <td>NaN</td>\n",
       "      <td>DACIAN ST</td>\n",
       "      <td>NaN</td>\n",
       "      <td>WALNUT CA</td>\n",
       "      <td>91789.0</td>\n",
       "      <td>20198764001075</td>\n",
       "      <td>33.982224</td>\n",
       "      <td>-117.865271</td>\n",
       "      <td>(33.98222416, -117.86527056)</td>\n",
       "    </tr>\n",
       "    <tr>\n",
       "      <th>3827</th>\n",
       "      <td>91748-2312</td>\n",
       "      <td>unincorporated</td>\n",
       "      <td>8762009042</td>\n",
       "      <td>2019</td>\n",
       "      <td>8322</td>\n",
       "      <td>8762-009-042</td>\n",
       "      <td>1343 LINDENGROVE AVE  ROWLAND HEIGHTS CA  91748</td>\n",
       "      <td>SFR</td>\n",
       "      <td>0100</td>\n",
       "      <td>Residential</td>\n",
       "      <td>...</td>\n",
       "      <td>NaN</td>\n",
       "      <td>NaN</td>\n",
       "      <td>LINDENGROVE AVE</td>\n",
       "      <td>NaN</td>\n",
       "      <td>ROWLAND HEIGHTS CA</td>\n",
       "      <td>91748.0</td>\n",
       "      <td>20198762009042</td>\n",
       "      <td>33.991782</td>\n",
       "      <td>-117.877171</td>\n",
       "      <td>(33.99178151, -117.8771706)</td>\n",
       "    </tr>\n",
       "    <tr>\n",
       "      <th>5351</th>\n",
       "      <td>91744-4116</td>\n",
       "      <td>unincorporated</td>\n",
       "      <td>8745023010</td>\n",
       "      <td>2019</td>\n",
       "      <td>5613</td>\n",
       "      <td>8745-023-010</td>\n",
       "      <td>515 RUTHCREST AVE  LA PUENTE CA  91744</td>\n",
       "      <td>SFR</td>\n",
       "      <td>0104</td>\n",
       "      <td>Residential</td>\n",
       "      <td>...</td>\n",
       "      <td>NaN</td>\n",
       "      <td>NaN</td>\n",
       "      <td>RUTHCREST AVE</td>\n",
       "      <td>NaN</td>\n",
       "      <td>LA PUENTE CA</td>\n",
       "      <td>91744.0</td>\n",
       "      <td>20198745023010</td>\n",
       "      <td>34.028476</td>\n",
       "      <td>-117.933301</td>\n",
       "      <td>(34.02847593, -117.93330138)</td>\n",
       "    </tr>\n",
       "  </tbody>\n",
       "</table>\n",
       "<p>5 rows × 51 columns</p>\n",
       "</div>"
      ],
      "text/plain": [
       "      ï»¿ZIPcode TaxRateArea_CITY         AIN  RollYear  TaxRateArea  \\\n",
       "1056  91789-3530   unincorporated  8764016015      2019         8322   \n",
       "1254  91765-3461      DIAMOND BAR  8765010024      2019        10068   \n",
       "2222  91789-3414   unincorporated  8764001075      2019         8322   \n",
       "3827  91748-2312   unincorporated  8762009042      2019         8322   \n",
       "5351  91744-4116   unincorporated  8745023010      2019         5613   \n",
       "\n",
       "        AssessorID                                 PropertyLocation  \\\n",
       "1056  8764-016-015                1928 RADCLAY DR  WALNUT CA  91789   \n",
       "1254  8765-010-024          21139 TRIGGER LN  DIAMOND BAR CA  91765   \n",
       "2222  8764-001-075                 2055 DACIAN ST  WALNUT CA  91789   \n",
       "3827  8762-009-042  1343 LINDENGROVE AVE  ROWLAND HEIGHTS CA  91748   \n",
       "5351  8745-023-010           515 RUTHCREST AVE  LA PUENTE CA  91744   \n",
       "\n",
       "     PropertyType PropertyUseCode GeneralUseType  \\\n",
       "1056          SFR            0100    Residential   \n",
       "1254          SFR            0101    Residential   \n",
       "2222          CND            010C    Residential   \n",
       "3827          SFR            0100    Residential   \n",
       "5351          SFR            0104    Residential   \n",
       "\n",
       "                  ...              HouseFraction StreetDirection  \\\n",
       "1056              ...                        NaN             NaN   \n",
       "1254              ...                        NaN             NaN   \n",
       "2222              ...                        NaN             NaN   \n",
       "3827              ...                        NaN             NaN   \n",
       "5351              ...                        NaN             NaN   \n",
       "\n",
       "           StreetName  UnitNo                City  ZIPcode5           rowID  \\\n",
       "1056       RADCLAY DR     NaN           WALNUT CA   91789.0  20198764016015   \n",
       "1254       TRIGGER LN     NaN      DIAMOND BAR CA   91765.0  20198765010024   \n",
       "2222        DACIAN ST     NaN           WALNUT CA   91789.0  20198764001075   \n",
       "3827  LINDENGROVE AVE     NaN  ROWLAND HEIGHTS CA   91748.0  20198762009042   \n",
       "5351    RUTHCREST AVE     NaN        LA PUENTE CA   91744.0  20198745023010   \n",
       "\n",
       "      CENTER_LAT  CENTER_LON                    Location 1  \n",
       "1056   33.984956 -117.859498  (33.98495641, -117.85949761)  \n",
       "1254   33.976302 -117.844966  (33.97630227, -117.84496593)  \n",
       "2222   33.982224 -117.865271  (33.98222416, -117.86527056)  \n",
       "3827   33.991782 -117.877171   (33.99178151, -117.8771706)  \n",
       "5351   34.028476 -117.933301  (34.02847593, -117.93330138)  \n",
       "\n",
       "[5 rows x 51 columns]"
      ]
     },
     "execution_count": 18,
     "metadata": {},
     "output_type": "execute_result"
    }
   ],
   "source": [
    "filtered.head()"
   ]
  },
  {
   "cell_type": "code",
   "execution_count": 19,
   "metadata": {},
   "outputs": [],
   "source": [
    "file_name = county_data_name + '_filtered.csv'\n",
    "filtered.to_csv(file_name, index = False)"
   ]
  }
 ],
 "metadata": {
  "kernelspec": {
   "display_name": "Python 3",
   "language": "python",
   "name": "python3"
  },
  "language_info": {
   "codemirror_mode": {
    "name": "ipython",
    "version": 3
   },
   "file_extension": ".py",
   "mimetype": "text/x-python",
   "name": "python",
   "nbconvert_exporter": "python",
   "pygments_lexer": "ipython3",
   "version": "3.6.5"
  }
 },
 "nbformat": 4,
 "nbformat_minor": 2
}
