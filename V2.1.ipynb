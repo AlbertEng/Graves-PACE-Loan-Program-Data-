{
 "cells": [
  {
   "cell_type": "code",
   "execution_count": 1,
   "metadata": {},
   "outputs": [],
   "source": [
    "import os\n",
    "import pandas as pd\n",
    "import numpy as np"
   ]
  },
  {
   "cell_type": "code",
   "execution_count": 2,
   "metadata": {},
   "outputs": [],
   "source": [
    "path = os.getcwd()\n",
    "files = os.listdir(path)\n",
    "files = [f for f in files if f[-4:] == 'xlsx']"
   ]
  },
  {
   "cell_type": "code",
   "execution_count": 3,
   "metadata": {},
   "outputs": [
    {
     "data": {
      "text/plain": [
       "Index(['ï»¿ZIPcode', 'TaxRateArea_CITY', 'AIN', 'RollYear', 'TaxRateArea',\n",
       "       'AssessorID', 'PropertyLocation', 'PropertyType', 'PropertyUseCode',\n",
       "       'GeneralUseType', 'SpecificUseType', 'SpecificUseDetail1',\n",
       "       'SpecificUseDetail2', 'totBuildingDataLines', 'YearBuilt',\n",
       "       'EffectiveYearBuilt', 'SQFTmain', 'Bedrooms', 'Bathrooms', 'Units',\n",
       "       'RecordingDate', 'LandValue', 'LandBaseYear', 'ImprovementValue',\n",
       "       'ImpBaseYear', 'TotalLandImpValue', 'HomeownersExemption',\n",
       "       'RealEstateExemption', 'FixtureValue', 'FixtureExemption',\n",
       "       'PersonalPropertyValue', 'PersonalPropertyExemption',\n",
       "       'isTaxableParcel?', 'TotalValue', 'TotalExemption', 'netTaxableValue',\n",
       "       'SpecialParcelClassification', 'AdministrativeRegion', 'Cluster',\n",
       "       'ParcelBoundaryDescription', 'HouseNo', 'HouseFraction',\n",
       "       'StreetDirection', 'StreetName', 'UnitNo', 'City', 'ZIPcode5', 'rowID',\n",
       "       'CENTER_LAT', 'CENTER_LON', 'Location 1'],\n",
       "      dtype='object')"
      ]
     },
     "execution_count": 3,
     "metadata": {},
     "output_type": "execute_result"
    }
   ],
   "source": [
    "parcels_data_19 = pd.read_csv(r\"C:\\Users\\kas\\Downloads\\Complete\\Assessor_Parcels_Data_-_2019.csv\",engine='python')\n",
    "parcels_data_19.columns"
   ]
  },
  {
   "cell_type": "code",
   "execution_count": 15,
   "metadata": {},
   "outputs": [
    {
     "data": {
      "text/plain": [
       "0    8765-017-031\n",
       "1    8765-020-011\n",
       "2    8765-021-098\n",
       "3    8765-022-038\n",
       "4    8765-023-039\n",
       "Name: AssessorID, dtype: object"
      ]
     },
     "execution_count": 15,
     "metadata": {},
     "output_type": "execute_result"
    }
   ],
   "source": [
    "assessorID = parcels_data_19['AssessorID']\n",
    "matching_apns = []\n",
    "for ID in arr:\n",
    "    for APN in assessorID:\n",
    "        if ID == APN:\n",
    "            matching_apns = matching_apns.append(ID)"
   ]
  },
  {
   "cell_type": "code",
   "execution_count": 43,
   "metadata": {},
   "outputs": [
    {
     "data": {
      "text/plain": [
       "86"
      ]
     },
     "execution_count": 43,
     "metadata": {},
     "output_type": "execute_result"
    }
   ],
   "source": [
    "matching_apns.size"
   ]
  },
  {
   "cell_type": "code",
   "execution_count": 50,
   "metadata": {},
   "outputs": [],
   "source": [
    "matching_apns_19 = pd.DataFrame(matching_apns)\n",
    "matching_apns_19.to_csv('matching_apns_19.csv', index = False)"
   ]
  }
 ],
 "metadata": {
  "kernelspec": {
   "display_name": "Python 3",
   "language": "python",
   "name": "python3"
  },
  "language_info": {
   "codemirror_mode": {
    "name": "ipython",
    "version": 3
   },
   "file_extension": ".py",
   "mimetype": "text/x-python",
   "name": "python",
   "nbconvert_exporter": "python",
   "pygments_lexer": "ipython3",
   "version": "3.6.5"
  }
 },
 "nbformat": 4,
 "nbformat_minor": 2
}
